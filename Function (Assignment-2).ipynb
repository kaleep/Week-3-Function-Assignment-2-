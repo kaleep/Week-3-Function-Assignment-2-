{
 "cells": [
  {
   "cell_type": "markdown",
   "id": "0d7bd8bc-5d77-47d2-bca2-96a53389774e",
   "metadata": {},
   "source": [
    "1. Create a python program to sort thefollowing list of tuples based on integer value using a lambda function.\n",
    "[('Savhin Tendulkar', 34357, ('Ricky Ponting', 27483), ('Jack Kallis', 25534)m ('Vitat Kohli', 24936)"
   ]
  },
  {
   "cell_type": "code",
   "execution_count": 1,
   "id": "037c63a1-6c89-4949-b382-c7bb6328f263",
   "metadata": {},
   "outputs": [
    {
     "name": "stdout",
     "output_type": "stream",
     "text": [
      "('Vitat Kohli', 24936)\n",
      "('Jack Kallis', 25534)\n",
      "('Ricky Ponting', 27483)\n",
      "('Savhin Tendulkar', 34357)\n"
     ]
    }
   ],
   "source": [
    "#Question-1\n",
    "data = [('Savhin Tendulkar', 34357), ('Ricky Ponting', 27483), ('Jack Kallis', 25534), ('Vitat Kohli', 24936)]\n",
    "\n",
    "sorted_data = sorted(data, key=lambda x: x[1])\n",
    "\n",
    "for item in sorted_data:\n",
    "    print(item)"
   ]
  },
  {
   "cell_type": "markdown",
   "id": "fe6ab547-8bf4-4ec0-a2d3-900caf94e75d",
   "metadata": {},
   "source": [
    "2. Write a python program to find the square of all the numbers in the given list of integers using lambda and map functions.\n",
    "[1,2,3,4,5,6,7,8,9]2. "
   ]
  },
  {
   "cell_type": "code",
   "execution_count": 2,
   "id": "3fe1c95f-a28b-43ac-8e76-c30a81370b8b",
   "metadata": {},
   "outputs": [
    {
     "name": "stdout",
     "output_type": "stream",
     "text": [
      "[1, 4, 9, 16, 25, 36, 49, 64, 81]\n"
     ]
    }
   ],
   "source": [
    "numbers = [1, 2, 3, 4, 5, 6, 7, 8, 9]\n",
    "\n",
    "squared_numbers = list(map(lambda x: x ** 2, numbers))\n",
    "\n",
    "print(squared_numbers)"
   ]
  },
  {
   "cell_type": "markdown",
   "id": "b68c8524-7d47-43e2-a6c3-86655c9a7850",
   "metadata": {},
   "source": [
    "3. Write a python program to convert the given list of integer into a tuple of strings. Use map and lambda functions.\n",
    "Given string: [1,2,3,4,5,6,7,8,9,10]\n",
    "\n",
    "Expected output: ('1','2','3','4','5','6','7','8','9','10']"
   ]
  },
  {
   "cell_type": "code",
   "execution_count": 3,
   "id": "d59cf84e-bed7-4180-b7c2-2e74ddcc670b",
   "metadata": {},
   "outputs": [
    {
     "name": "stdout",
     "output_type": "stream",
     "text": [
      "('1', '2', '3', '4', '5', '6', '7', '8', '9', '10')\n"
     ]
    }
   ],
   "source": [
    "#Question-3\n",
    "numbers = [1, 2, 3, 4, 5, 6, 7, 8, 9, 10]\n",
    "\n",
    "tuple_of_strings = tuple(map(lambda x: str(x), numbers))\n",
    "\n",
    "print(tuple_of_strings)"
   ]
  },
  {
   "cell_type": "markdown",
   "id": "34766151-251e-4dad-a9dc-fddf7e9f8972",
   "metadata": {},
   "source": [
    "4. Write a python program using reduce function to compute the product of a list containing numbers from 1 to 25."
   ]
  },
  {
   "cell_type": "code",
   "execution_count": 4,
   "id": "d84d67a5-7c8b-426c-9d37-2edfdb4a41b8",
   "metadata": {},
   "outputs": [
    {
     "name": "stdout",
     "output_type": "stream",
     "text": [
      "15511210043330985984000000\n"
     ]
    }
   ],
   "source": [
    "from functools import reduce\n",
    "numbers = list(range(1, 26))\n",
    "product = reduce(lambda x, y: x * y, numbers)\n",
    "print(product)"
   ]
  },
  {
   "cell_type": "markdown",
   "id": "f0570ada-d328-4903-8c60-7dd5b0fd9e0d",
   "metadata": {},
   "source": [
    "5. Write a python program to filter the numbersin a given list that are divisible by 2 nde 3 using filter function"
   ]
  },
  {
   "cell_type": "code",
   "execution_count": null,
   "id": "4336eefd-88ff-44d9-b974-2b07a0a5e4bf",
   "metadata": {},
   "outputs": [],
   "source": []
  }
 ],
 "metadata": {
  "kernelspec": {
   "display_name": "Python 3 (ipykernel)",
   "language": "python",
   "name": "python3"
  },
  "language_info": {
   "codemirror_mode": {
    "name": "ipython",
    "version": 3
   },
   "file_extension": ".py",
   "mimetype": "text/x-python",
   "name": "python",
   "nbconvert_exporter": "python",
   "pygments_lexer": "ipython3",
   "version": "3.10.8"
  }
 },
 "nbformat": 4,
 "nbformat_minor": 5
}
